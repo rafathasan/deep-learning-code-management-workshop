{
  "nbformat": 4,
  "nbformat_minor": 0,
  "metadata": {
    "colab": {
      "provenance": [],
      "gpuType": "T4"
    },
    "kernelspec": {
      "name": "python3",
      "display_name": "Python 3"
    },
    "language_info": {
      "name": "python"
    },
    "accelerator": "GPU"
  },
  "cells": [
    {
      "cell_type": "code",
      "execution_count": 1,
      "metadata": {
        "colab": {
          "base_uri": "https://localhost:8080/"
        },
        "id": "hrg3ao24YsPd",
        "outputId": "549d6561-cdfe-42a4-d71a-c9374e0e19ef"
      },
      "outputs": [
        {
          "output_type": "stream",
          "name": "stdout",
          "text": [
            "Cloning into 'deep-learning-code-management-workshop'...\n",
            "remote: Enumerating objects: 63, done.\u001b[K\n",
            "remote: Counting objects: 100% (63/63), done.\u001b[K\n",
            "remote: Compressing objects: 100% (32/32), done.\u001b[K\n",
            "remote: Total 63 (delta 25), reused 53 (delta 18), pack-reused 0\u001b[K\n",
            "Receiving objects: 100% (63/63), 11.35 KiB | 11.35 MiB/s, done.\n",
            "Resolving deltas: 100% (25/25), done.\n"
          ]
        }
      ],
      "source": [
        "!git clone https://github.com/rafathasan/deep-learning-code-management-workshop.git"
      ]
    },
    {
      "cell_type": "code",
      "source": [
        "!pwd"
      ],
      "metadata": {
        "colab": {
          "base_uri": "https://localhost:8080/"
        },
        "id": "YHL008gQY53z",
        "outputId": "82eed4eb-026d-482a-c076-56229c17de68"
      },
      "execution_count": 1,
      "outputs": [
        {
          "output_type": "stream",
          "name": "stdout",
          "text": [
            "/content\n"
          ]
        }
      ]
    },
    {
      "cell_type": "code",
      "source": [
        "import os"
      ],
      "metadata": {
        "id": "ddMswF6fZHTM"
      },
      "execution_count": 2,
      "outputs": []
    },
    {
      "cell_type": "code",
      "source": [
        "os.chdir(\"deep-learning-code-management-workshop\")"
      ],
      "metadata": {
        "id": "-fxJsCaUZRGK"
      },
      "execution_count": 3,
      "outputs": []
    },
    {
      "cell_type": "code",
      "source": [
        "!pwd"
      ],
      "metadata": {
        "colab": {
          "base_uri": "https://localhost:8080/"
        },
        "id": "wQIq4fzyZduf",
        "outputId": "71e3be3e-1098-470a-d671-cebf38e33aaa"
      },
      "execution_count": 4,
      "outputs": [
        {
          "output_type": "stream",
          "name": "stdout",
          "text": [
            "/content/deep-learning-code-management-workshop\n"
          ]
        }
      ]
    },
    {
      "cell_type": "code",
      "source": [
        "!pip install -r requirements.txt"
      ],
      "metadata": {
        "colab": {
          "base_uri": "https://localhost:8080/",
          "height": 1000
        },
        "id": "V2pe1sOibiNK",
        "outputId": "60a051a9-efd8-425b-e822-ef5c8a551a80"
      },
      "execution_count": 9,
      "outputs": [
        {
          "output_type": "stream",
          "name": "stdout",
          "text": [
            "Requirement already satisfied: albumentations==1.3.1 in /usr/local/lib/python3.10/dist-packages (from -r requirements.txt (line 1)) (1.3.1)\n",
            "Requirement already satisfied: click==8.1.7 in /usr/local/lib/python3.10/dist-packages (from -r requirements.txt (line 2)) (8.1.7)\n",
            "Collecting numpy==1.26.4 (from -r requirements.txt (line 3))\n",
            "  Downloading numpy-1.26.4-cp310-cp310-manylinux_2_17_x86_64.manylinux2014_x86_64.whl (18.2 MB)\n",
            "\u001b[2K     \u001b[90m━━━━━━━━━━━━━━━━━━━━━━━━━━━━━━━━━━━━━━━━\u001b[0m \u001b[32m18.2/18.2 MB\u001b[0m \u001b[31m18.4 MB/s\u001b[0m eta \u001b[36m0:00:00\u001b[0m\n",
            "\u001b[?25hCollecting Pillow==9.3.0 (from -r requirements.txt (line 4))\n",
            "  Downloading Pillow-9.3.0-cp310-cp310-manylinux_2_28_x86_64.whl (3.3 MB)\n",
            "\u001b[2K     \u001b[90m━━━━━━━━━━━━━━━━━━━━━━━━━━━━━━━━━━━━━━━━\u001b[0m \u001b[32m3.3/3.3 MB\u001b[0m \u001b[31m22.0 MB/s\u001b[0m eta \u001b[36m0:00:00\u001b[0m\n",
            "\u001b[?25hCollecting pytorch_lightning==2.0.9.post0 (from -r requirements.txt (line 5))\n",
            "  Downloading pytorch_lightning-2.0.9.post0-py3-none-any.whl (727 kB)\n",
            "\u001b[2K     \u001b[90m━━━━━━━━━━━━━━━━━━━━━━━━━━━━━━━━━━━━━━━━\u001b[0m \u001b[32m727.7/727.7 kB\u001b[0m \u001b[31m23.8 MB/s\u001b[0m eta \u001b[36m0:00:00\u001b[0m\n",
            "\u001b[?25hRequirement already satisfied: PyYAML==6.0.1 in /usr/local/lib/python3.10/dist-packages (from -r requirements.txt (line 6)) (6.0.1)\n",
            "Requirement already satisfied: torch==2.1+cu121 in /usr/local/lib/python3.10/dist-packages (from -r requirements.txt (line 7)) (2.1.0+cu121)\n",
            "Collecting torchmetrics==1.2.0 (from -r requirements.txt (line 8))\n",
            "  Downloading torchmetrics-1.2.0-py3-none-any.whl (805 kB)\n",
            "\u001b[2K     \u001b[90m━━━━━━━━━━━━━━━━━━━━━━━━━━━━━━━━━━━━━━━━\u001b[0m \u001b[32m805.2/805.2 kB\u001b[0m \u001b[31m21.9 MB/s\u001b[0m eta \u001b[36m0:00:00\u001b[0m\n",
            "\u001b[?25hRequirement already satisfied: torchvision==0.16+cu121 in /usr/local/lib/python3.10/dist-packages (from -r requirements.txt (line 9)) (0.16.0+cu121)\n",
            "Collecting wandb==0.16.3 (from -r requirements.txt (line 10))\n",
            "  Downloading wandb-0.16.3-py3-none-any.whl (2.2 MB)\n",
            "\u001b[2K     \u001b[90m━━━━━━━━━━━━━━━━━━━━━━━━━━━━━━━━━━━━━━━━\u001b[0m \u001b[32m2.2/2.2 MB\u001b[0m \u001b[31m25.4 MB/s\u001b[0m eta \u001b[36m0:00:00\u001b[0m\n",
            "\u001b[?25hRequirement already satisfied: scipy>=1.1.0 in /usr/local/lib/python3.10/dist-packages (from albumentations==1.3.1->-r requirements.txt (line 1)) (1.11.4)\n",
            "Requirement already satisfied: scikit-image>=0.16.1 in /usr/local/lib/python3.10/dist-packages (from albumentations==1.3.1->-r requirements.txt (line 1)) (0.19.3)\n",
            "Requirement already satisfied: qudida>=0.0.4 in /usr/local/lib/python3.10/dist-packages (from albumentations==1.3.1->-r requirements.txt (line 1)) (0.0.4)\n",
            "Requirement already satisfied: opencv-python-headless>=4.1.1 in /usr/local/lib/python3.10/dist-packages (from albumentations==1.3.1->-r requirements.txt (line 1)) (4.9.0.80)\n",
            "Requirement already satisfied: tqdm>=4.57.0 in /usr/local/lib/python3.10/dist-packages (from pytorch_lightning==2.0.9.post0->-r requirements.txt (line 5)) (4.66.2)\n",
            "Requirement already satisfied: fsspec[http]>2021.06.0 in /usr/local/lib/python3.10/dist-packages (from pytorch_lightning==2.0.9.post0->-r requirements.txt (line 5)) (2023.6.0)\n",
            "Requirement already satisfied: packaging>=17.1 in /usr/local/lib/python3.10/dist-packages (from pytorch_lightning==2.0.9.post0->-r requirements.txt (line 5)) (23.2)\n",
            "Requirement already satisfied: typing-extensions>=4.0.0 in /usr/local/lib/python3.10/dist-packages (from pytorch_lightning==2.0.9.post0->-r requirements.txt (line 5)) (4.9.0)\n",
            "Collecting lightning-utilities>=0.7.0 (from pytorch_lightning==2.0.9.post0->-r requirements.txt (line 5))\n",
            "  Downloading lightning_utilities-0.10.1-py3-none-any.whl (24 kB)\n",
            "Requirement already satisfied: filelock in /usr/local/lib/python3.10/dist-packages (from torch==2.1+cu121->-r requirements.txt (line 7)) (3.13.1)\n",
            "Requirement already satisfied: sympy in /usr/local/lib/python3.10/dist-packages (from torch==2.1+cu121->-r requirements.txt (line 7)) (1.12)\n",
            "Requirement already satisfied: networkx in /usr/local/lib/python3.10/dist-packages (from torch==2.1+cu121->-r requirements.txt (line 7)) (3.2.1)\n",
            "Requirement already satisfied: jinja2 in /usr/local/lib/python3.10/dist-packages (from torch==2.1+cu121->-r requirements.txt (line 7)) (3.1.3)\n",
            "Requirement already satisfied: triton==2.1.0 in /usr/local/lib/python3.10/dist-packages (from torch==2.1+cu121->-r requirements.txt (line 7)) (2.1.0)\n",
            "Requirement already satisfied: requests in /usr/local/lib/python3.10/dist-packages (from torchvision==0.16+cu121->-r requirements.txt (line 9)) (2.31.0)\n",
            "Collecting GitPython!=3.1.29,>=1.0.0 (from wandb==0.16.3->-r requirements.txt (line 10))\n",
            "  Downloading GitPython-3.1.42-py3-none-any.whl (195 kB)\n",
            "\u001b[2K     \u001b[90m━━━━━━━━━━━━━━━━━━━━━━━━━━━━━━━━━━━━━━━━\u001b[0m \u001b[32m195.4/195.4 kB\u001b[0m \u001b[31m22.8 MB/s\u001b[0m eta \u001b[36m0:00:00\u001b[0m\n",
            "\u001b[?25hRequirement already satisfied: psutil>=5.0.0 in /usr/local/lib/python3.10/dist-packages (from wandb==0.16.3->-r requirements.txt (line 10)) (5.9.5)\n",
            "Collecting sentry-sdk>=1.0.0 (from wandb==0.16.3->-r requirements.txt (line 10))\n",
            "  Downloading sentry_sdk-1.40.4-py2.py3-none-any.whl (257 kB)\n",
            "\u001b[2K     \u001b[90m━━━━━━━━━━━━━━━━━━━━━━━━━━━━━━━━━━━━━━━━\u001b[0m \u001b[32m257.9/257.9 kB\u001b[0m \u001b[31m20.4 MB/s\u001b[0m eta \u001b[36m0:00:00\u001b[0m\n",
            "\u001b[?25hCollecting docker-pycreds>=0.4.0 (from wandb==0.16.3->-r requirements.txt (line 10))\n",
            "  Downloading docker_pycreds-0.4.0-py2.py3-none-any.whl (9.0 kB)\n",
            "Collecting setproctitle (from wandb==0.16.3->-r requirements.txt (line 10))\n",
            "  Downloading setproctitle-1.3.3-cp310-cp310-manylinux_2_5_x86_64.manylinux1_x86_64.manylinux_2_17_x86_64.manylinux2014_x86_64.whl (30 kB)\n",
            "Requirement already satisfied: setuptools in /usr/local/lib/python3.10/dist-packages (from wandb==0.16.3->-r requirements.txt (line 10)) (67.7.2)\n",
            "Requirement already satisfied: appdirs>=1.4.3 in /usr/local/lib/python3.10/dist-packages (from wandb==0.16.3->-r requirements.txt (line 10)) (1.4.4)\n",
            "Requirement already satisfied: protobuf!=4.21.0,<5,>=3.19.0 in /usr/local/lib/python3.10/dist-packages (from wandb==0.16.3->-r requirements.txt (line 10)) (3.20.3)\n",
            "Requirement already satisfied: six>=1.4.0 in /usr/local/lib/python3.10/dist-packages (from docker-pycreds>=0.4.0->wandb==0.16.3->-r requirements.txt (line 10)) (1.16.0)\n",
            "Requirement already satisfied: aiohttp!=4.0.0a0,!=4.0.0a1 in /usr/local/lib/python3.10/dist-packages (from fsspec[http]>2021.06.0->pytorch_lightning==2.0.9.post0->-r requirements.txt (line 5)) (3.9.3)\n",
            "Collecting gitdb<5,>=4.0.1 (from GitPython!=3.1.29,>=1.0.0->wandb==0.16.3->-r requirements.txt (line 10))\n",
            "  Downloading gitdb-4.0.11-py3-none-any.whl (62 kB)\n",
            "\u001b[2K     \u001b[90m━━━━━━━━━━━━━━━━━━━━━━━━━━━━━━━━━━━━━━━━\u001b[0m \u001b[32m62.7/62.7 kB\u001b[0m \u001b[31m9.2 MB/s\u001b[0m eta \u001b[36m0:00:00\u001b[0m\n",
            "\u001b[?25hRequirement already satisfied: scikit-learn>=0.19.1 in /usr/local/lib/python3.10/dist-packages (from qudida>=0.0.4->albumentations==1.3.1->-r requirements.txt (line 1)) (1.2.2)\n",
            "Requirement already satisfied: charset-normalizer<4,>=2 in /usr/local/lib/python3.10/dist-packages (from requests->torchvision==0.16+cu121->-r requirements.txt (line 9)) (3.3.2)\n",
            "Requirement already satisfied: idna<4,>=2.5 in /usr/local/lib/python3.10/dist-packages (from requests->torchvision==0.16+cu121->-r requirements.txt (line 9)) (3.6)\n",
            "Requirement already satisfied: urllib3<3,>=1.21.1 in /usr/local/lib/python3.10/dist-packages (from requests->torchvision==0.16+cu121->-r requirements.txt (line 9)) (2.0.7)\n",
            "Requirement already satisfied: certifi>=2017.4.17 in /usr/local/lib/python3.10/dist-packages (from requests->torchvision==0.16+cu121->-r requirements.txt (line 9)) (2024.2.2)\n",
            "Requirement already satisfied: imageio>=2.4.1 in /usr/local/lib/python3.10/dist-packages (from scikit-image>=0.16.1->albumentations==1.3.1->-r requirements.txt (line 1)) (2.31.6)\n",
            "Requirement already satisfied: tifffile>=2019.7.26 in /usr/local/lib/python3.10/dist-packages (from scikit-image>=0.16.1->albumentations==1.3.1->-r requirements.txt (line 1)) (2024.2.12)\n",
            "Requirement already satisfied: PyWavelets>=1.1.1 in /usr/local/lib/python3.10/dist-packages (from scikit-image>=0.16.1->albumentations==1.3.1->-r requirements.txt (line 1)) (1.5.0)\n",
            "Requirement already satisfied: MarkupSafe>=2.0 in /usr/local/lib/python3.10/dist-packages (from jinja2->torch==2.1+cu121->-r requirements.txt (line 7)) (2.1.5)\n",
            "Requirement already satisfied: mpmath>=0.19 in /usr/local/lib/python3.10/dist-packages (from sympy->torch==2.1+cu121->-r requirements.txt (line 7)) (1.3.0)\n",
            "Requirement already satisfied: aiosignal>=1.1.2 in /usr/local/lib/python3.10/dist-packages (from aiohttp!=4.0.0a0,!=4.0.0a1->fsspec[http]>2021.06.0->pytorch_lightning==2.0.9.post0->-r requirements.txt (line 5)) (1.3.1)\n",
            "Requirement already satisfied: attrs>=17.3.0 in /usr/local/lib/python3.10/dist-packages (from aiohttp!=4.0.0a0,!=4.0.0a1->fsspec[http]>2021.06.0->pytorch_lightning==2.0.9.post0->-r requirements.txt (line 5)) (23.2.0)\n",
            "Requirement already satisfied: frozenlist>=1.1.1 in /usr/local/lib/python3.10/dist-packages (from aiohttp!=4.0.0a0,!=4.0.0a1->fsspec[http]>2021.06.0->pytorch_lightning==2.0.9.post0->-r requirements.txt (line 5)) (1.4.1)\n",
            "Requirement already satisfied: multidict<7.0,>=4.5 in /usr/local/lib/python3.10/dist-packages (from aiohttp!=4.0.0a0,!=4.0.0a1->fsspec[http]>2021.06.0->pytorch_lightning==2.0.9.post0->-r requirements.txt (line 5)) (6.0.5)\n",
            "Requirement already satisfied: yarl<2.0,>=1.0 in /usr/local/lib/python3.10/dist-packages (from aiohttp!=4.0.0a0,!=4.0.0a1->fsspec[http]>2021.06.0->pytorch_lightning==2.0.9.post0->-r requirements.txt (line 5)) (1.9.4)\n",
            "Requirement already satisfied: async-timeout<5.0,>=4.0 in /usr/local/lib/python3.10/dist-packages (from aiohttp!=4.0.0a0,!=4.0.0a1->fsspec[http]>2021.06.0->pytorch_lightning==2.0.9.post0->-r requirements.txt (line 5)) (4.0.3)\n",
            "Collecting smmap<6,>=3.0.1 (from gitdb<5,>=4.0.1->GitPython!=3.1.29,>=1.0.0->wandb==0.16.3->-r requirements.txt (line 10))\n",
            "  Downloading smmap-5.0.1-py3-none-any.whl (24 kB)\n",
            "Requirement already satisfied: joblib>=1.1.1 in /usr/local/lib/python3.10/dist-packages (from scikit-learn>=0.19.1->qudida>=0.0.4->albumentations==1.3.1->-r requirements.txt (line 1)) (1.3.2)\n",
            "Requirement already satisfied: threadpoolctl>=2.0.0 in /usr/local/lib/python3.10/dist-packages (from scikit-learn>=0.19.1->qudida>=0.0.4->albumentations==1.3.1->-r requirements.txt (line 1)) (3.2.0)\n",
            "Installing collected packages: smmap, setproctitle, sentry-sdk, Pillow, numpy, lightning-utilities, docker-pycreds, gitdb, torchmetrics, GitPython, wandb, pytorch_lightning\n",
            "  Attempting uninstall: Pillow\n",
            "    Found existing installation: Pillow 9.4.0\n",
            "    Uninstalling Pillow-9.4.0:\n",
            "      Successfully uninstalled Pillow-9.4.0\n",
            "  Attempting uninstall: numpy\n",
            "    Found existing installation: numpy 1.25.2\n",
            "    Uninstalling numpy-1.25.2:\n",
            "      Successfully uninstalled numpy-1.25.2\n",
            "\u001b[31mERROR: pip's dependency resolver does not currently take into account all the packages that are installed. This behaviour is the source of the following dependency conflicts.\n",
            "lida 0.0.10 requires fastapi, which is not installed.\n",
            "lida 0.0.10 requires kaleido, which is not installed.\n",
            "lida 0.0.10 requires python-multipart, which is not installed.\n",
            "lida 0.0.10 requires uvicorn, which is not installed.\u001b[0m\u001b[31m\n",
            "\u001b[0mSuccessfully installed GitPython-3.1.42 Pillow-9.3.0 docker-pycreds-0.4.0 gitdb-4.0.11 lightning-utilities-0.10.1 numpy-1.26.4 pytorch_lightning-2.0.9.post0 sentry-sdk-1.40.4 setproctitle-1.3.3 smmap-5.0.1 torchmetrics-1.2.0 wandb-0.16.3\n"
          ]
        },
        {
          "output_type": "display_data",
          "data": {
            "application/vnd.colab-display-data+json": {
              "pip_warning": {
                "packages": [
                  "PIL"
                ]
              }
            }
          },
          "metadata": {}
        }
      ]
    },
    {
      "cell_type": "code",
      "source": [
        "!python cli.py train --config ./configs/VGG16_CIFAR10.yaml"
      ],
      "metadata": {
        "colab": {
          "base_uri": "https://localhost:8080/"
        },
        "id": "KRtkxtPUZeub",
        "outputId": "388c8ef6-f0c1-4928-a22a-f5ecada77c4d"
      },
      "execution_count": 18,
      "outputs": [
        {
          "output_type": "stream",
          "name": "stdout",
          "text": [
            "Global seed set to 42\n",
            "\u001b[34m\u001b[1mwandb\u001b[0m: Currently logged in as: \u001b[33mrafathasan\u001b[0m. Use \u001b[1m`wandb login --relogin`\u001b[0m to force relogin\n",
            "\u001b[34m\u001b[1mwandb\u001b[0m: Appending key for api.wandb.ai to your netrc file: /root/.netrc\n",
            "\u001b[34m\u001b[1mwandb\u001b[0m: Tracking run with wandb version 0.16.3\n",
            "\u001b[34m\u001b[1mwandb\u001b[0m: Run data is saved locally in \u001b[35m\u001b[1m__logs__/wandb/run-20240217_103004-fold_2\u001b[0m\n",
            "\u001b[34m\u001b[1mwandb\u001b[0m: Run \u001b[1m`wandb offline`\u001b[0m to turn off syncing.\n",
            "\u001b[34m\u001b[1mwandb\u001b[0m: Syncing run \u001b[33mfold_2\u001b[0m\n",
            "\u001b[34m\u001b[1mwandb\u001b[0m: ⭐️ View project at \u001b[34m\u001b[4mhttps://wandb.ai/rafathasan/CIFAR10-experiment\u001b[0m\n",
            "\u001b[34m\u001b[1mwandb\u001b[0m: 🚀 View run at \u001b[34m\u001b[4mhttps://wandb.ai/rafathasan/CIFAR10-experiment/runs/fold_2\u001b[0m\n",
            "GPU available: True (cuda), used: True\n",
            "TPU available: False, using: 0 TPU cores\n",
            "IPU available: False, using: 0 IPUs\n",
            "HPU available: False, using: 0 HPUs\n",
            "Files already downloaded and verified\n",
            "Files already downloaded and verified\n",
            "LOCAL_RANK: 0 - CUDA_VISIBLE_DEVICES: [0]\n",
            "Adjusting learning rate of group 0 to 1.0000e-01.\n",
            "\n",
            "  | Name   | Type             | Params\n",
            "--------------------------------------------\n",
            "0 | model  | VGG              | 134 M \n",
            "1 | metric | MetricCollection | 0     \n",
            "--------------------------------------------\n",
            "134 M     Trainable params\n",
            "0         Non-trainable params\n",
            "134 M     Total params\n",
            "537.206   Total estimated model params size (MB)\n",
            "Sanity Checking: 0it [00:00, ?it/s]/usr/local/lib/python3.10/dist-packages/torch/utils/data/dataloader.py:557: UserWarning: This DataLoader will create 16 worker processes in total. Our suggested max number of worker in current system is 2, which is smaller than what this DataLoader is going to create. Please be aware that excessive worker creation might get DataLoader running slow or even freeze, lower the worker number to avoid potential slowness/freeze if necessary.\n",
            "  warnings.warn(_create_warning_msg(\n",
            "Epoch 0:  76% 60/79 [00:20<00:06,  2.88it/s, v_num=ld_2]Adjusting learning rate of group 0 to 9.0000e-02.\n",
            "Epoch 0: 100% 79/79 [00:26<00:00,  3.02it/s, v_num=ld_2]\n",
            "Validation: 0it [00:00, ?it/s]\u001b[A\n",
            "Validation:   0% 0/10 [00:00<?, ?it/s]\u001b[A\n",
            "Validation DataLoader 0:   0% 0/10 [00:00<?, ?it/s]\u001b[A\n",
            "Validation DataLoader 0: 100% 10/10 [00:01<00:00,  5.60it/s]\u001b[A\n",
            "Epoch 0: 100% 79/79 [00:30<00:00,  2.57it/s, v_num=ld_2, val_loss=3.04e+15]Epoch 0, global step 79: 'F1' reached 0.06371 (best 0.06371), saving model to '/content/deep-learning-code-management-workshop/__logs__/CIFAR10-experiment/fold_2/last-best.ckpt' as top 1\n",
            "Epoch 1:  76% 60/79 [00:19<00:06,  3.03it/s, v_num=ld_2, val_loss=3.04e+15]Adjusting learning rate of group 0 to 8.1000e-02.\n",
            "Epoch 1: 100% 79/79 [00:24<00:00,  3.17it/s, v_num=ld_2, val_loss=3.04e+15]\n",
            "Validation: 0it [00:00, ?it/s]\u001b[A\n",
            "Validation:   0% 0/10 [00:00<?, ?it/s]\u001b[A\n",
            "Validation DataLoader 0:   0% 0/10 [00:00<?, ?it/s]\u001b[A\n",
            "Validation DataLoader 0: 100% 10/10 [00:01<00:00,  5.36it/s]\u001b[A\n",
            "Epoch 1: 100% 79/79 [00:30<00:00,  2.58it/s, v_num=ld_2, val_loss=2.300]Epoch 1, global step 158: 'F1' was not in top 1\n",
            "Epoch 2:  76% 60/79 [00:20<00:06,  2.98it/s, v_num=ld_2, val_loss=2.300]Adjusting learning rate of group 0 to 7.2900e-02.\n",
            "Epoch 2: 100% 79/79 [00:25<00:00,  3.12it/s, v_num=ld_2, val_loss=2.300]\n",
            "Validation: 0it [00:00, ?it/s]\u001b[A\n",
            "Validation:   0% 0/10 [00:00<?, ?it/s]\u001b[A\n",
            "Validation DataLoader 0:   0% 0/10 [00:00<?, ?it/s]\u001b[A\n",
            "Validation DataLoader 0: 100% 10/10 [00:01<00:00,  5.32it/s]\u001b[A\n",
            "Epoch 2: 100% 79/79 [00:30<00:00,  2.57it/s, v_num=ld_2, val_loss=2.310]Epoch 2, global step 237: 'F1' was not in top 1\n",
            "Epoch 3:  76% 60/79 [00:20<00:06,  2.89it/s, v_num=ld_2, val_loss=2.310]Adjusting learning rate of group 0 to 6.5610e-02.\n",
            "Epoch 3: 100% 79/79 [00:25<00:00,  3.05it/s, v_num=ld_2, val_loss=2.310]\n",
            "Validation: 0it [00:00, ?it/s]\u001b[A\n",
            "Validation:   0% 0/10 [00:00<?, ?it/s]\u001b[A\n",
            "Validation DataLoader 0:   0% 0/10 [00:00<?, ?it/s]\u001b[A\n",
            "Validation DataLoader 0: 100% 10/10 [00:01<00:00,  5.16it/s]\u001b[A\n",
            "Epoch 3: 100% 79/79 [00:30<00:00,  2.58it/s, v_num=ld_2, val_loss=2.300]Epoch 3, global step 316: 'F1' was not in top 1\n",
            "Epoch 4:  76% 60/79 [00:19<00:06,  3.01it/s, v_num=ld_2, val_loss=2.300]Adjusting learning rate of group 0 to 5.9049e-02.\n",
            "Epoch 4: 100% 79/79 [00:25<00:00,  3.14it/s, v_num=ld_2, val_loss=2.300]\n",
            "Validation: 0it [00:00, ?it/s]\u001b[A\n",
            "Validation:   0% 0/10 [00:00<?, ?it/s]\u001b[A\n",
            "Validation DataLoader 0:   0% 0/10 [00:00<?, ?it/s]\u001b[A\n",
            "Validation DataLoader 0: 100% 10/10 [00:01<00:00,  5.35it/s]\u001b[A\n",
            "Epoch 4: 100% 79/79 [00:31<00:00,  2.53it/s, v_num=ld_2, val_loss=2.300]Epoch 4, global step 395: 'F1' was not in top 1\n",
            "`Trainer.fit` stopped: `max_epochs=5` reached.\n",
            "Epoch 4: 100% 79/79 [00:49<00:00,  1.60it/s, v_num=ld_2, val_loss=2.300]\n",
            "\u001b[34m\u001b[1mwandb\u001b[0m: \n",
            "\u001b[34m\u001b[1mwandb\u001b[0m: Run history:\n",
            "\u001b[34m\u001b[1mwandb\u001b[0m:                  F1 █▁▄█▇\n",
            "\u001b[34m\u001b[1mwandb\u001b[0m:         F1_airplane █▃▂▁▁\n",
            "\u001b[34m\u001b[1mwandb\u001b[0m:       F1_automobile ▁▇█▇█\n",
            "\u001b[34m\u001b[1mwandb\u001b[0m:             F1_bird ▂▁▇█▇\n",
            "\u001b[34m\u001b[1mwandb\u001b[0m:              F1_cat ▂▁▁▇█\n",
            "\u001b[34m\u001b[1mwandb\u001b[0m:             F1_deer █▄▂▁▁\n",
            "\u001b[34m\u001b[1mwandb\u001b[0m:              F1_dog █▃▂▁▁\n",
            "\u001b[34m\u001b[1mwandb\u001b[0m:             F1_frog █▃▂▁▁\n",
            "\u001b[34m\u001b[1mwandb\u001b[0m:            F1_horse █▄▂▁▁\n",
            "\u001b[34m\u001b[1mwandb\u001b[0m:             F1_ship █▇▅▃▁\n",
            "\u001b[34m\u001b[1mwandb\u001b[0m:            F1_truck █▄▂▁▁\n",
            "\u001b[34m\u001b[1mwandb\u001b[0m:               epoch ▁▃▅▆█\n",
            "\u001b[34m\u001b[1mwandb\u001b[0m: trainer/global_step ▁▃▅▆█\n",
            "\u001b[34m\u001b[1mwandb\u001b[0m:            val_loss █▁▁▁▁\n",
            "\u001b[34m\u001b[1mwandb\u001b[0m: \n",
            "\u001b[34m\u001b[1mwandb\u001b[0m: Run summary:\n",
            "\u001b[34m\u001b[1mwandb\u001b[0m:                  F1 0.06252\n",
            "\u001b[34m\u001b[1mwandb\u001b[0m:         F1_airplane 0.00605\n",
            "\u001b[34m\u001b[1mwandb\u001b[0m:       F1_automobile 0.15824\n",
            "\u001b[34m\u001b[1mwandb\u001b[0m:             F1_bird 0.13297\n",
            "\u001b[34m\u001b[1mwandb\u001b[0m:              F1_cat 0.13568\n",
            "\u001b[34m\u001b[1mwandb\u001b[0m:             F1_deer 0.01482\n",
            "\u001b[34m\u001b[1mwandb\u001b[0m:              F1_dog 0.00755\n",
            "\u001b[34m\u001b[1mwandb\u001b[0m:             F1_frog 0.00213\n",
            "\u001b[34m\u001b[1mwandb\u001b[0m:            F1_horse 0.01716\n",
            "\u001b[34m\u001b[1mwandb\u001b[0m:             F1_ship 0.13176\n",
            "\u001b[34m\u001b[1mwandb\u001b[0m:            F1_truck 0.01884\n",
            "\u001b[34m\u001b[1mwandb\u001b[0m:               epoch 4\n",
            "\u001b[34m\u001b[1mwandb\u001b[0m: trainer/global_step 394\n",
            "\u001b[34m\u001b[1mwandb\u001b[0m:            val_loss 2.30247\n",
            "\u001b[34m\u001b[1mwandb\u001b[0m: \n",
            "\u001b[34m\u001b[1mwandb\u001b[0m: 🚀 View run \u001b[33mfold_2\u001b[0m at: \u001b[34m\u001b[4mhttps://wandb.ai/rafathasan/CIFAR10-experiment/runs/fold_2\u001b[0m\n",
            "\u001b[34m\u001b[1mwandb\u001b[0m: ️⚡ View job at \u001b[34m\u001b[4mhttps://wandb.ai/rafathasan/CIFAR10-experiment/jobs/QXJ0aWZhY3RDb2xsZWN0aW9uOjE0MDQ3MzYyNA==/version_details/v0\u001b[0m\n",
            "\u001b[34m\u001b[1mwandb\u001b[0m: Synced 5 W&B file(s), 0 media file(s), 0 artifact file(s) and 0 other file(s)\n",
            "\u001b[34m\u001b[1mwandb\u001b[0m: Find logs at: \u001b[35m\u001b[1m__logs__/wandb/run-20240217_103004-fold_2/logs\u001b[0m\n"
          ]
        }
      ]
    },
    {
      "cell_type": "code",
      "source": [
        "!python cli.py test --config ./configs/VGG16_CIFAR10.yaml"
      ],
      "metadata": {
        "colab": {
          "base_uri": "https://localhost:8080/"
        },
        "id": "Z9T8CdOreDUA",
        "outputId": "b051c2e1-d92d-4d12-8a93-9e010941685c"
      },
      "execution_count": 14,
      "outputs": [
        {
          "output_type": "stream",
          "name": "stdout",
          "text": [
            "Global seed set to 42\n",
            "GPU available: True (cuda), used: True\n",
            "TPU available: False, using: 0 TPU cores\n",
            "IPU available: False, using: 0 IPUs\n",
            "HPU available: False, using: 0 HPUs\n",
            "Files already downloaded and verified\n",
            "Files already downloaded and verified\n",
            "Restoring states from the checkpoint path at __logs__/CIFAR10-experiment/regular/last-best.ckpt\n",
            "LOCAL_RANK: 0 - CUDA_VISIBLE_DEVICES: [0]\n",
            "Loaded model weights from the checkpoint at __logs__/CIFAR10-experiment/regular/last-best.ckpt\n",
            "/usr/local/lib/python3.10/dist-packages/torch/utils/data/dataloader.py:557: UserWarning: This DataLoader will create 16 worker processes in total. Our suggested max number of worker in current system is 2, which is smaller than what this DataLoader is going to create. Please be aware that excessive worker creation might get DataLoader running slow or even freeze, lower the worker number to avoid potential slowness/freeze if necessary.\n",
            "  warnings.warn(_create_warning_msg(\n",
            "Testing DataLoader 0: 100% 10/10 [00:02<00:00,  3.48it/s]\n",
            "┏━━━━━━━━━━━━━━━━━━━━━━━━━━━┳━━━━━━━━━━━━━━━━━━━━━━━━━━━┓\n",
            "┃\u001b[1m \u001b[0m\u001b[1m       Test metric       \u001b[0m\u001b[1m \u001b[0m┃\u001b[1m \u001b[0m\u001b[1m      DataLoader 0       \u001b[0m\u001b[1m \u001b[0m┃\n",
            "┡━━━━━━━━━━━━━━━━━━━━━━━━━━━╇━━━━━━━━━━━━━━━━━━━━━━━━━━━┩\n",
            "│\u001b[36m \u001b[0m\u001b[36m           F1            \u001b[0m\u001b[36m \u001b[0m│\u001b[35m \u001b[0m\u001b[35m   0.01805962808430195   \u001b[0m\u001b[35m \u001b[0m│\n",
            "│\u001b[36m \u001b[0m\u001b[36m       F1_airplane       \u001b[0m\u001b[36m \u001b[0m│\u001b[35m \u001b[0m\u001b[35m   0.1805962771177292    \u001b[0m\u001b[35m \u001b[0m│\n",
            "│\u001b[36m \u001b[0m\u001b[36m      F1_automobile      \u001b[0m\u001b[36m \u001b[0m│\u001b[35m \u001b[0m\u001b[35m           0.0           \u001b[0m\u001b[35m \u001b[0m│\n",
            "│\u001b[36m \u001b[0m\u001b[36m         F1_bird         \u001b[0m\u001b[36m \u001b[0m│\u001b[35m \u001b[0m\u001b[35m           0.0           \u001b[0m\u001b[35m \u001b[0m│\n",
            "│\u001b[36m \u001b[0m\u001b[36m         F1_cat          \u001b[0m\u001b[36m \u001b[0m│\u001b[35m \u001b[0m\u001b[35m           0.0           \u001b[0m\u001b[35m \u001b[0m│\n",
            "│\u001b[36m \u001b[0m\u001b[36m         F1_deer         \u001b[0m\u001b[36m \u001b[0m│\u001b[35m \u001b[0m\u001b[35m           0.0           \u001b[0m\u001b[35m \u001b[0m│\n",
            "│\u001b[36m \u001b[0m\u001b[36m         F1_dog          \u001b[0m\u001b[36m \u001b[0m│\u001b[35m \u001b[0m\u001b[35m           0.0           \u001b[0m\u001b[35m \u001b[0m│\n",
            "│\u001b[36m \u001b[0m\u001b[36m         F1_frog         \u001b[0m\u001b[36m \u001b[0m│\u001b[35m \u001b[0m\u001b[35m           0.0           \u001b[0m\u001b[35m \u001b[0m│\n",
            "│\u001b[36m \u001b[0m\u001b[36m        F1_horse         \u001b[0m\u001b[36m \u001b[0m│\u001b[35m \u001b[0m\u001b[35m           0.0           \u001b[0m\u001b[35m \u001b[0m│\n",
            "│\u001b[36m \u001b[0m\u001b[36m         F1_ship         \u001b[0m\u001b[36m \u001b[0m│\u001b[35m \u001b[0m\u001b[35m           0.0           \u001b[0m\u001b[35m \u001b[0m│\n",
            "│\u001b[36m \u001b[0m\u001b[36m        F1_truck         \u001b[0m\u001b[36m \u001b[0m│\u001b[35m \u001b[0m\u001b[35m           0.0           \u001b[0m\u001b[35m \u001b[0m│\n",
            "│\u001b[36m \u001b[0m\u001b[36m        test_loss        \u001b[0m\u001b[36m \u001b[0m│\u001b[35m \u001b[0m\u001b[35m  1.041388909101056e+16  \u001b[0m\u001b[35m \u001b[0m│\n",
            "└───────────────────────────┴───────────────────────────┘\n"
          ]
        }
      ]
    },
    {
      "cell_type": "code",
      "source": [],
      "metadata": {
        "id": "MBf3DJxIhXgw"
      },
      "execution_count": null,
      "outputs": []
    }
  ]
}